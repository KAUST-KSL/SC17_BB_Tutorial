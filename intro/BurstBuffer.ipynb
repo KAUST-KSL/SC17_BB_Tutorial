{
 "cells": [
  {
   "cell_type": "code",
   "execution_count": 1,
   "metadata": {
    "collapsed": false
   },
   "outputs": [
    {
     "data": {
      "text/plain": [
       "u'Name=cray DefaultPool=wlm_pool Granularity=82496MiB TotalSpace=1192325GiB FreeSpace=982279872MiB UsedSpace=156329920MiB\\n  AltPoolName[0]=dev_pool Granularity=20624MiB TotalSpace=47693GiB FreeSpace=47693GiB UsedSpace=0\\n  AltPoolName[1]=sm_pool Granularity=20624MiB TotalSpace=476930GiB FreeSpace=476166912MiB UsedSpace=0\\n  Flags=EnablePersistent,TeardownFailure\\n  StageInTimeout=86400 StageOutTimeout=86400 ValidateTimeout=5 OtherTimeout=300\\n  GetSysState=/opt/cray/dw_wlm/default/bin/dw_wlm_cli\\n  Allocated Buffers:\\n    Name=build_cms_000 CreateTime=2017-11-02T14:32:19 Pool=wlm_pool Size=82496MiB State=allocated UserID=jmeppley(71721)\\n    Name=build_cms_002 CreateTime=2017-11-02T13:31:42 Pool=wlm_pool Size=82496MiB State=allocated UserID=jmeppley(71721)\\n    Name=build_cms CreateTime=2017-11-01T14:31:14 Pool=wlm_pool Size=82496MiB State=allocated UserID=jmeppley(71721)\\n    Name=NCBI_DB2 CreateTime=2017-10-17T11:20:55 Pool=wlm_pool Size=2392384MiB State=allocated UserID=syao(30821)\\n    Name=myBBname CreateTime=2017-10-24T20:36:47 Pool=wlm_pool Size=412480MiB State=allocated UserID=gapavlop(70227)\\n    Name=TW_TEST_COMPILE CreateTime=2017-09-22T14:51:00 Pool=(null) Size=247488MiB State=allocated UserID=wildish(71731)\\n    Name=TW_BB CreateTime=2017-09-22T14:33:20 Pool=wlm_pool Size=247488MiB State=allocated UserID=wildish(71731)\\n    JobID=8210137 CreateTime=2017-11-07T16:12:37 Pool=wlm_pool Size=4784768MiB State=staged-in UserID=sbyna(51832)\\n    Name=spark_test CreateTime=2017-09-26T12:51:45 Pool=wlm_pool Size=412480MiB State=allocated UserID=lgerhard(43940)\\n    JobID=8249372 CreateTime=2017-11-08T06:24:35 Pool=(null) Size=0 State=allocated UserID=tshep(73143)\\n    JobID=8249436 CreateTime=2017-11-08T06:23:22 Pool=(null) Size=0 State=allocated UserID=tshep(73143)\\n    Name=no_WT CreateTime=2017-11-08T06:23:22 Pool=wlm_pool Size=2392384MiB State=allocated UserID=tshep(73143)\\n    Name=WT CreateTime=2017-11-08T04:37:22 Pool=wlm_pool Size=2392384MiB State=allocated UserID=tshep(73143)\\n    JobID=8257642 CreateTime=2017-11-08T15:10:58 Pool=wlm_pool Size=1979904MiB State=staged-in UserID=compo(41549)\\n    JobID=8251894 CreateTime=2017-11-08T11:28:37 Pool=wlm_pool Size=19139072MiB State=staged-in UserID=ikaliman(72149)\\n    JobID=8178970 CreateTime=2017-11-07T01:35:11 Pool=wlm_pool Size=9569536MiB State=staged-in UserID=ikaliman(72149)\\n    Name=slaughte_data_noepics CreateTime=2017-11-03T12:11:44 Pool=wlm_pool Size=989952MiB State=allocated UserID=slaughte(72869)\\n    Name=my_persistent_reservation CreateTime=2017-11-08T12:13:06 Pool=wlm_pool Size=247488MiB State=allocated UserID=swhwang(74973)\\n    JobID=7899561 CreateTime=2017-11-06T01:53:07 Pool=wlm_pool Size=13364352MiB State=staged-in UserID=detar(43874)\\n    JobID=7898558 CreateTime=2017-11-06T01:53:07 Pool=wlm_pool Size=13364352MiB State=staged-in UserID=detar(43874)\\n    JobID=7941699 CreateTime=2017-11-06T01:53:05 Pool=wlm_pool Size=13364352MiB State=staged-in UserID=detar(43874)\\n    JobID=7899091 CreateTime=2017-11-06T01:53:04 Pool=wlm_pool Size=13364352MiB State=staged-in UserID=detar(43874)\\n    JobID=7899294 CreateTime=2017-11-06T01:53:04 Pool=wlm_pool Size=13364352MiB State=staged-in UserID=detar(43874)\\n    JobID=7898559 CreateTime=2017-11-06T01:53:04 Pool=wlm_pool Size=13364352MiB State=staged-in UserID=detar(43874)\\n    JobID=7898555 CreateTime=2017-11-06T01:53:04 Pool=wlm_pool Size=13364352MiB State=staged-in UserID=detar(43874)\\n    JobID=7898554 CreateTime=2017-11-06T01:53:04 Pool=wlm_pool Size=13364352MiB State=staged-in UserID=detar(43874)\\n    JobID=8257577 CreateTime=2017-11-08T15:05:30 Pool=wlm_pool Size=164992MiB State=staged-in UserID=ezar(60891)\\n    Name=djb CreateTime=2017-11-07T10:37:00 Pool=wlm_pool Size=329984MiB State=allocated UserID=djbard(61692)\\n    Name=StF CreateTime=2017-09-19T11:58:42 Pool=(null) Size=2887360MiB State=allocated UserID=djbard(61692)\\n    JobID=8178909 CreateTime=2017-11-06T08:51:30 Pool=(null) Size=0 State=allocated UserID=dor(74693)\\n    JobID=8178719 CreateTime=2017-11-06T08:47:50 Pool=(null) Size=0 State=allocated UserID=dor(74693)\\n    Name=decals_dr5_edr CreateTime=2017-07-20T11:28:47 Pool=(null) Size=577472MiB State=allocated UserID=desiproc(68595)\\n  Per User Buffer Use:\\n    UserID=jmeppley(71721) Used=247488MiB\\n    UserID=syao(30821) Used=2392384MiB\\n    UserID=gapavlop(70227) Used=412480MiB\\n    UserID=wildish(71731) Used=494976MiB\\n    UserID=sbyna(51832) Used=4784768MiB\\n    UserID=lgerhard(43940) Used=412480MiB\\n    UserID=tshep(73143) Used=4784768MiB\\n    UserID=compo(41549) Used=1979904MiB\\n    UserID=ikaliman(72149) Used=28708608MiB\\n    UserID=slaughte(72869) Used=989952MiB\\n    UserID=swhwang(74973) Used=247488MiB\\n    UserID=detar(43874) Used=104409GiB\\n    UserID=ezar(60891) Used=164992MiB\\n    UserID=djbard(61692) Used=3217344MiB\\n    UserID=desiproc(68595) Used=577472MiB\\n'"
      ]
     },
     "execution_count": 1,
     "metadata": {},
     "output_type": "execute_result"
    }
   ],
   "source": [
    "\n",
    "#Use slurm magic to look at the status of the Burst Buffer right now\n",
    "\n",
    "%scontrol show burst"
   ]
  },
  {
   "cell_type": "code",
   "execution_count": 2,
   "metadata": {
    "collapsed": false
   },
   "outputs": [
    {
     "name": "stdout",
     "output_type": "stream",
     "text": [
      "Name=cray DefaultPool=wlm_pool Granularity=82496MiB TotalSpace=1192325GiB FreeSpace=982279872MiB UsedSpace=156329920MiB\n",
      "  AltPoolName[0]=dev_pool Granularity=20624MiB TotalSpace=47693GiB FreeSpace=47693GiB UsedSpace=0\n",
      "  AltPoolName[1]=sm_pool Granularity=20624MiB TotalSpace=476930GiB FreeSpace=476166912MiB UsedSpace=0\n"
     ]
    }
   ],
   "source": [
    "\n",
    "#Reformat this to pull out a few lines that describe the configuration of the available pools\n",
    "\n",
    "sc = %scontrol show burst\n",
    "cols = sc.split(\"\\n\")\n",
    "for c in range(len(cols)):\n",
    "    if \"Granularity\" in cols[c]:\n",
    "        print cols[c]\n"
   ]
  },
  {
   "cell_type": "code",
   "execution_count": null,
   "metadata": {
    "collapsed": true
   },
   "outputs": [],
   "source": [
    "\n",
    "\n",
    "### Submit a job using slurm magic, requesting a BB scratch allocation. \n",
    "\n"
   ]
  },
  {
   "cell_type": "code",
   "execution_count": 91,
   "metadata": {
    "collapsed": false
   },
   "outputs": [
    {
     "data": {
      "text/plain": [
       "u'Submitted batch job 6900035\\n'"
      ]
     },
     "execution_count": 91,
     "metadata": {},
     "output_type": "execute_result"
    }
   ],
   "source": [
    "%%sbatch -t 1 -N 1 -C knl --reservation=sc17_bb\n",
    "#!/bin/bash\n",
    "#DW jobdw capacity=1.5TB access_mode=striped type=scratch pool=wlm_pool\n",
    "echo 'allocation mount point: '\n",
    "echo $DW_JOB_STRIPED"
   ]
  },
  {
   "cell_type": "code",
   "execution_count": 4,
   "metadata": {
    "collapsed": false
   },
   "outputs": [
    {
     "name": "stdout",
     "output_type": "stream",
     "text": [
      "    Name=djb CreateTime=2017-11-07T10:37:00 Pool=wlm_pool Size=329984MiB State=allocated UserID=djbard(61692)\n",
      "    Name=StF CreateTime=2017-09-19T11:58:42 Pool=(null) Size=2887360MiB State=allocated UserID=djbard(61692)\n",
      "    UserID=djbard(61692) Used=3217344MiB\n"
     ]
    }
   ],
   "source": [
    "\n",
    "### Have a look at this in scontrol:\n",
    "\n",
    "sc = %scontrol show burst\n",
    "cols = sc.split(\"\\n\")\n",
    "for c in range(len(cols)):\n",
    "    if \"djbard\" in cols[c]:\n",
    "        print cols[c]"
   ]
  },
  {
   "cell_type": "code",
   "execution_count": 3,
   "metadata": {
    "collapsed": false
   },
   "outputs": [
    {
     "data": {
      "text/html": [
       "<div>\n",
       "<table border=\"1\" class=\"dataframe\">\n",
       "  <thead>\n",
       "    <tr style=\"text-align: right;\">\n",
       "      <th></th>\n",
       "      <th>JOBID</th>\n",
       "      <th>PARTITION</th>\n",
       "      <th>NAME</th>\n",
       "      <th>USER</th>\n",
       "      <th>ST</th>\n",
       "      <th>TIME</th>\n",
       "      <th>NODES</th>\n",
       "      <th>NODELIST(REASON)</th>\n",
       "    </tr>\n",
       "  </thead>\n",
       "  <tbody>\n",
       "  </tbody>\n",
       "</table>\n",
       "</div>"
      ],
      "text/plain": [
       "Empty DataFrame\n",
       "Columns: [JOBID, PARTITION, NAME, USER, ST, TIME, NODES, NODELIST(REASON)]\n",
       "Index: []"
      ]
     },
     "execution_count": 3,
     "metadata": {},
     "output_type": "execute_result"
    }
   ],
   "source": [
    "\n",
    "### Use slurm magic to see what job is in the queue\n",
    "\n",
    "%squeue -u djbard "
   ]
  },
  {
   "cell_type": "code",
   "execution_count": null,
   "metadata": {
    "collapsed": true
   },
   "outputs": [],
   "source": [
    "\n",
    "\n",
    "### Create a persistent reservation\n",
    "\n"
   ]
  },
  {
   "cell_type": "code",
   "execution_count": 95,
   "metadata": {
    "collapsed": false
   },
   "outputs": [
    {
     "data": {
      "text/plain": [
       "u'Submitted batch job 6900072\\n'"
      ]
     },
     "execution_count": 95,
     "metadata": {},
     "output_type": "execute_result"
    }
   ],
   "source": [
    "%%sbatch -p special -t 1 -N 1 -C knl  --reservation=sc17_bb\n",
    "#!/bin/bash\n",
    "#BB create_persistent name=myPR capacity=300GB access_mode=striped type=scratch "
   ]
  },
  {
   "cell_type": "code",
   "execution_count": 96,
   "metadata": {
    "collapsed": false
   },
   "outputs": [
    {
     "data": {
      "text/html": [
       "<div>\n",
       "<table border=\"1\" class=\"dataframe\">\n",
       "  <thead>\n",
       "    <tr style=\"text-align: right;\">\n",
       "      <th></th>\n",
       "      <th>JOBID</th>\n",
       "      <th>PARTITION</th>\n",
       "      <th>NAME</th>\n",
       "      <th>USER</th>\n",
       "      <th>ST</th>\n",
       "      <th>TIME</th>\n",
       "      <th>NODES</th>\n",
       "      <th>NODELIST(REASON)</th>\n",
       "    </tr>\n",
       "  </thead>\n",
       "  <tbody>\n",
       "    <tr>\n",
       "      <th>0</th>\n",
       "      <td>6900072</td>\n",
       "      <td>special</td>\n",
       "      <td>sbatch</td>\n",
       "      <td>djbard</td>\n",
       "      <td>PD</td>\n",
       "      <td>0:00</td>\n",
       "      <td>1</td>\n",
       "      <td>(BurstBufferResources)</td>\n",
       "    </tr>\n",
       "  </tbody>\n",
       "</table>\n",
       "</div>"
      ],
      "text/plain": [
       "     JOBID PARTITION    NAME    USER  ST  TIME  NODES        NODELIST(REASON)\n",
       "0  6900072   special  sbatch  djbard  PD  0:00      1  (BurstBufferResources)"
      ]
     },
     "execution_count": 96,
     "metadata": {},
     "output_type": "execute_result"
    }
   ],
   "source": [
    "\n",
    "### User slurm magic to check my job status\n",
    "\n",
    "%squeue -u djbard \n"
   ]
  },
  {
   "cell_type": "code",
   "execution_count": 97,
   "metadata": {
    "collapsed": false
   },
   "outputs": [
    {
     "name": "stdout",
     "output_type": "stream",
     "text": [
      "    Name=myPR CreateTime=2017-09-19T10:05:52 Pool=wlm_pool Size=329984MiB State=allocated UserID=djbard(61692)\n",
      "    UserID=djbard(61692) Used=329984MiB\n"
     ]
    }
   ],
   "source": [
    "\n",
    "## Have a look at my allocations using scontrol\n",
    "\n",
    "sc = %scontrol show burst\n",
    "cols = sc.split(\"\\n\")\n",
    "for c in range(len(cols)):\n",
    "    if \"djbard\" in cols[c]:\n",
    "        print cols[c]"
   ]
  },
  {
   "cell_type": "code",
   "execution_count": 98,
   "metadata": {
    "collapsed": false
   },
   "outputs": [
    {
     "name": "stdout",
     "output_type": "stream",
     "text": [
      "slurm-6900035.out\r\n"
     ]
    }
   ],
   "source": [
    "\n",
    "### Have a look at the output log\n",
    "\n",
    "!ls slurm*\n"
   ]
  },
  {
   "cell_type": "code",
   "execution_count": 99,
   "metadata": {
    "collapsed": false
   },
   "outputs": [
    {
     "name": "stdout",
     "output_type": "stream",
     "text": [
      "allocation mount point: \r\n",
      "/var/opt/cray/dws/mounts/batch/6900035_striped_scratch/\r\n"
     ]
    }
   ],
   "source": [
    "!cat slurm-6900035.out"
   ]
  },
  {
   "cell_type": "code",
   "execution_count": null,
   "metadata": {
    "collapsed": true
   },
   "outputs": [],
   "source": [
    "\n",
    "\n",
    "#### Do something a bit more complicated: use my persistent reservation, \n",
    "### and request an additional scratch space. \n",
    "### stage_in a directory to the persistent allocation\n",
    "### stage_in a file to the scratch allocation\n",
    "\n",
    "\n"
   ]
  },
  {
   "cell_type": "code",
   "execution_count": 105,
   "metadata": {
    "collapsed": false
   },
   "outputs": [
    {
     "data": {
      "text/plain": [
       "u'Submitted batch job 6901084\\n'"
      ]
     },
     "execution_count": 105,
     "metadata": {},
     "output_type": "execute_result"
    }
   ],
   "source": [
    "\n",
    "%%sbatch -p special -t 1 -N 1 -C knl  --reservation=sc17_bb\n",
    "#!/bin/bash\n",
    "#DW persistentdw name=myPR\n",
    "#DW stage_in source=/global/cscratch1/sd/djbard/data  destination=$DW_PERSISTENT_STRIPED_myPR/mydatadir  type=directory\n",
    "\n",
    "\n",
    "#DW jobdw capacity=500GB access_mode=striped type=scratch pool=wlm_pool\n",
    "#DW stage_in source=/global/cscratch1/sd/djbard/test1Gb.db  destination=$DW_JOB_STRIPED/my1GBfile.db type=file\n",
    "\n",
    "\n",
    "echo 'PR allocation mount point: '\n",
    "echo $DW_PERSISTENT_STRIPED_myPR\n",
    "\n",
    "echo 'scratch allocation mount point: '\n",
    "echo $DW_JOB_STRIPED\n",
    "\n",
    "echo 'contents of PR:'\n",
    "ls -l $DW_PERSISTENT_STRIPED_myPR\n",
    "ls -l $DW_PERSISTENT_STRIPED_myPR/mydatadir\n",
    "\n",
    "echo 'contents of scratch alloction:'\n",
    "ls -l $DW_JOB_STRIPED"
   ]
  },
  {
   "cell_type": "code",
   "execution_count": 102,
   "metadata": {
    "collapsed": false
   },
   "outputs": [
    {
     "data": {
      "text/html": [
       "<div>\n",
       "<table border=\"1\" class=\"dataframe\">\n",
       "  <thead>\n",
       "    <tr style=\"text-align: right;\">\n",
       "      <th></th>\n",
       "      <th>JOBID</th>\n",
       "      <th>PARTITION</th>\n",
       "      <th>NAME</th>\n",
       "      <th>USER</th>\n",
       "      <th>ST</th>\n",
       "      <th>TIME</th>\n",
       "      <th>NODES</th>\n",
       "      <th>NODELIST(REASON)</th>\n",
       "    </tr>\n",
       "  </thead>\n",
       "  <tbody>\n",
       "    <tr>\n",
       "      <th>0</th>\n",
       "      <td>6900138</td>\n",
       "      <td>special</td>\n",
       "      <td>sbatch</td>\n",
       "      <td>djbard</td>\n",
       "      <td>PD</td>\n",
       "      <td>0:00</td>\n",
       "      <td>1</td>\n",
       "      <td>(BurstBufferResources)</td>\n",
       "    </tr>\n",
       "  </tbody>\n",
       "</table>\n",
       "</div>"
      ],
      "text/plain": [
       "     JOBID PARTITION    NAME    USER  ST  TIME  NODES        NODELIST(REASON)\n",
       "0  6900138   special  sbatch  djbard  PD  0:00      1  (BurstBufferResources)"
      ]
     },
     "execution_count": 102,
     "metadata": {},
     "output_type": "execute_result"
    }
   ],
   "source": [
    "\n",
    "### Check the job is in the queue....\n",
    "\n",
    "%squeue -u djbard "
   ]
  },
  {
   "cell_type": "code",
   "execution_count": 107,
   "metadata": {
    "collapsed": false
   },
   "outputs": [
    {
     "name": "stdout",
     "output_type": "stream",
     "text": [
      "cat: slurm-6901084.out: No such file or directory\r\n"
     ]
    }
   ],
   "source": [
    "\n",
    "### Have a look at the output file\n",
    "\n",
    "!cat slurm-6901084.out"
   ]
  },
  {
   "cell_type": "code",
   "execution_count": null,
   "metadata": {
    "collapsed": true
   },
   "outputs": [],
   "source": [
    "## Delete my persstent reservation"
   ]
  },
  {
   "cell_type": "code",
   "execution_count": 104,
   "metadata": {
    "collapsed": false
   },
   "outputs": [
    {
     "data": {
      "text/plain": [
       "u'Submitted batch job 6900351\\n'"
      ]
     },
     "execution_count": 104,
     "metadata": {},
     "output_type": "execute_result"
    }
   ],
   "source": [
    "%%sbatch -p special -t 1 -N 1 -C knl  --reservation=sc17_bb\n",
    "#!/bin/bash\n",
    "#BB destroy_persistent name=myPR "
   ]
  },
  {
   "cell_type": "code",
   "execution_count": null,
   "metadata": {
    "collapsed": true
   },
   "outputs": [],
   "source": []
  }
 ],
 "metadata": {
  "anaconda-cloud": {},
  "kernelspec": {
   "display_name": "Python 2.7",
   "language": "python",
   "name": "python2.7"
  },
  "language_info": {
   "codemirror_mode": {
    "name": "ipython",
    "version": 2
   },
   "file_extension": ".py",
   "mimetype": "text/x-python",
   "name": "python",
   "nbconvert_exporter": "python",
   "pygments_lexer": "ipython2",
   "version": "2.7.12"
  }
 },
 "nbformat": 4,
 "nbformat_minor": 0
}
